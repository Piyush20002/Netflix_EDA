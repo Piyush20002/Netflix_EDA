{
  "nbformat": 4,
  "nbformat_minor": 0,
  "metadata": {
    "colab": {
      "private_outputs": true,
      "provenance": [],
      "include_colab_link": true
    },
    "kernelspec": {
      "name": "python3",
      "display_name": "Python 3"
    },
    "language_info": {
      "name": "python"
    }
  },
  "cells": [
    {
      "cell_type": "markdown",
      "metadata": {
        "id": "view-in-github",
        "colab_type": "text"
      },
      "source": [
        "<a href=\"https://colab.research.google.com/github/Piyush20002/Netflix_EDA/blob/main/Netflix_EDA_.ipynb\" target=\"_parent\"><img src=\"https://colab.research.google.com/assets/colab-badge.svg\" alt=\"Open In Colab\"/></a>"
      ]
    },
    {
      "cell_type": "markdown",
      "source": [
        "# **Project Name**    - NETFLIX MOVIES AND TV SHOWS CLUSTERING\n",
        "\n"
      ],
      "metadata": {
        "id": "vncDsAP0Gaoa"
      }
    },
    {
      "cell_type": "markdown",
      "source": [
        "##### **Project Type**    - Netflix EDA project\n",
        "##### **Contribution**    - Individual\n",
        "##### **Name**    - Piyush Chaudhari\n"
      ],
      "metadata": {
        "id": "beRrZCGUAJYm"
      }
    },
    {
      "cell_type": "markdown",
      "source": [
        "# **Project Summary -**"
      ],
      "metadata": {
        "id": "FJNUwmbgGyua"
      }
    },
    {
      "cell_type": "markdown",
      "source": [
        "This dataset consists of tv shows and movies available on Netflix as of 2019. The dataset is collected from Flixable which is a third-party Netflix search engine. In 2018, they released an interesting report which shows that the number of TV shows on Netflix has nearly tripled since 2010. The streaming service's number of movies has decreased by more than 2,000 titles since 2010, while its number of TV shows has nearly tripled. It will be interesting to explore what all other insights can be obtained from the same dataset.\n",
        "\n",
        "Integrating this dataset with other external datasets such as IMDB ratings, rotten tomatoes can also provide many interesting findings."
      ],
      "metadata": {
        "id": "F6v_1wHtG2nS"
      }
    },
    {
      "cell_type": "markdown",
      "source": [
        "# **GitHub Link -**"
      ],
      "metadata": {
        "id": "w6K7xa23Elo4"
      }
    },
    {
      "cell_type": "markdown",
      "source": [
        "https://github.com/Piyush20002/Netflix_EDA"
      ],
      "metadata": {
        "id": "h1o69JH3Eqqn"
      }
    },
    {
      "cell_type": "markdown",
      "source": [
        "# **Problem Statement**\n"
      ],
      "metadata": {
        "id": "yQaldy8SH6Dl"
      }
    },
    {
      "cell_type": "markdown",
      "source": [
        "\n",
        "The global entertainment industry has undergone a massive transformation with the rise of Over-The-Top (OTT) platforms, and Netflix stands at the forefront of this digital revolution. With an expansive and ever-growing library of TV shows and movies available across various countries and genres, Netflix is constantly challenged to curate, categorize, and recommend content effectively to retain users, maximize engagement, and ensure long-term subscriber growth.\n",
        "\n",
        "This project aims to perform a detailed **Exploratory Data Analysis (EDA)** on a dataset that consists of TV shows and movies available on Netflix as of 2019. The dataset, collected from Flixable—a third-party Netflix search engine—includes features such as show type, title, director, cast, country, date added, release year, rating, duration, and genre.\n"
      ],
      "metadata": {
        "id": "1GpDbpanNXjj"
      }
    },
    {
      "cell_type": "markdown",
      "source": [
        "#### **Define Your Business Objective?**"
      ],
      "metadata": {
        "id": "PH-0ReGfmX4f"
      }
    },
    {
      "cell_type": "markdown",
      "source": [
        "Objectives:\n",
        "\n",
        "1. To understand the composition and distribution of content available on Netflix across various dimensions like content type, duration, genre, release year, and country of origin.\n",
        "2. To identify patterns and trends in Netflix's content acquisition strategy over time.\n",
        "3. To analyze seasonal behaviors—such as which months see more content additions.\n",
        "4. To explore content diversity and the dominance of specific genres, countries, or ratings.\n",
        "5. To apply clustering techniques to identify groups of similar content based on duration and release year, which could potentially assist in recommendation systems or personalized content delivery.\n",
        "6. To uncover actionable business insights that Netflix could leverage to improve its content strategy, localization, user experience, and market segmentation.\n",
        "\n",
        "\n",
        "Business Need:\n",
        "\n",
        "Netflix constantly aims to enhance viewer satisfaction and retention. This requires a deep understanding of how its content library is structured and evolving. By identifying viewing patterns, content gaps, over-represented areas, and audience targeting opportunities.\n",
        "\n",
        "Through structured EDA and clustering, this project not only explores Netflix's content landscape but also provides actionable insights that align with business objectives."
      ],
      "metadata": {
        "id": "PhDvGCAqmjP1"
      }
    },
    {
      "cell_type": "markdown",
      "source": [
        "# ***Let's Begin !***"
      ],
      "metadata": {
        "id": "O_i_v8NEhb9l"
      }
    },
    {
      "cell_type": "markdown",
      "source": [
        "## ***1. Know Your Data***"
      ],
      "metadata": {
        "id": "HhfV-JJviCcP"
      }
    },
    {
      "cell_type": "markdown",
      "source": [
        "### Import Libraries"
      ],
      "metadata": {
        "id": "Y3lxredqlCYt"
      }
    },
    {
      "cell_type": "code",
      "source": [
        "# Import Libraries\n",
        "import pandas as pd\n",
        "import numpy as np\n",
        "import matplotlib.pyplot as plt\n",
        "import seaborn as sns\n",
        "from datetime import datetime\n",
        "import gdown"
      ],
      "metadata": {
        "id": "M8Vqi-pPk-HR"
      },
      "execution_count": null,
      "outputs": []
    },
    {
      "cell_type": "markdown",
      "source": [
        "### Dataset Loading"
      ],
      "metadata": {
        "id": "3RnN4peoiCZX"
      }
    },
    {
      "cell_type": "code",
      "source": [
        "#Load the dataset\n",
        "drive_url = 'https://drive.google.com/file/d/1xJGllnE12mAggLuRo8b0oNSshUlG8GvF/view?usp=drive_link'\n",
        "\n",
        "# Extract file\n",
        "file_id = drive_url.split('/d/')[1].split('/')[0]\n",
        "download_url = f'https://drive.google.com/uc?id={file_id}'\n",
        "\n",
        "# Download the file\n",
        "gdown.download(download_url, 'netflix.csv', quiet=False)\n",
        "df = pd.read_csv('netflix.csv')"
      ],
      "metadata": {
        "id": "0TN3VcXEAj6N"
      },
      "execution_count": null,
      "outputs": []
    },
    {
      "cell_type": "markdown",
      "source": [
        "### Dataset First View"
      ],
      "metadata": {
        "id": "x71ZqKXriCWQ"
      }
    },
    {
      "cell_type": "code",
      "source": [
        "\n",
        "# Display first 5 rows\n",
        "print(\" First 5 rows of the dataset:\")\n",
        "df.head()\n",
        "\n"
      ],
      "metadata": {
        "id": "LWNFOSvLl09H"
      },
      "execution_count": null,
      "outputs": []
    },
    {
      "cell_type": "markdown",
      "source": [
        "### Dataset Rows & Columns count"
      ],
      "metadata": {
        "id": "7hBIi_osiCS2"
      }
    },
    {
      "cell_type": "code",
      "source": [
        "# Dataset Rows & Columns count\n",
        "rows, columns = df.shape\n",
        "print(f\"The dataset contains:\\n {rows} rows (entries)\\n {columns} columns (features)\")\n"
      ],
      "metadata": {
        "id": "Kllu7SJgmLij"
      },
      "execution_count": null,
      "outputs": []
    },
    {
      "cell_type": "markdown",
      "source": [
        "### Dataset Information"
      ],
      "metadata": {
        "id": "JlHwYmJAmNHm"
      }
    },
    {
      "cell_type": "code",
      "source": [
        "# Dataset Info\n",
        "df.info()\n"
      ],
      "metadata": {
        "id": "e9hRXRi6meOf"
      },
      "execution_count": null,
      "outputs": []
    },
    {
      "cell_type": "markdown",
      "source": [
        "#### Correction needed for Datatypes"
      ],
      "metadata": {
        "id": "hLgmX6kRhIAh"
      }
    },
    {
      "cell_type": "markdown",
      "source": [
        "#### Duplicate Values"
      ],
      "metadata": {
        "id": "35m5QtbWiB9F"
      }
    },
    {
      "cell_type": "code",
      "source": [
        "# Dataset Duplicate Value Count\n",
        "duplicate_count = df.duplicated().sum()\n",
        "print(f\"Number of duplicate rows: {duplicate_count}\")"
      ],
      "metadata": {
        "id": "1sLdpKYkmox0"
      },
      "execution_count": null,
      "outputs": []
    },
    {
      "cell_type": "code",
      "source": [
        "df = df.drop_duplicates()\n",
        "print(f\"New dataset shape after removing duplicates: {df.shape}\")"
      ],
      "metadata": {
        "id": "Oj7uY32Pk-Y-"
      },
      "execution_count": null,
      "outputs": []
    },
    {
      "cell_type": "markdown",
      "source": [
        "#### Missing Values/Null Values"
      ],
      "metadata": {
        "id": "PoPl-ycgm1ru"
      }
    },
    {
      "cell_type": "code",
      "source": [
        "# Missing Values/Null Values Count\n",
        "missing_values = df.isnull().sum()\n",
        "print(\"Missing Values:\")\n",
        "print(missing_values)"
      ],
      "metadata": {
        "id": "GgHWkxvamxVg"
      },
      "execution_count": null,
      "outputs": []
    },
    {
      "cell_type": "code",
      "source": [
        "# Calculate missing values\n",
        "missing = df.isnull().sum()\n",
        "missing_percent = (missing / len(df)) * 100\n",
        "missing_df = pd.DataFrame({'Missing Values': missing, 'Percentage (%)': missing_percent})\n",
        "missing_df = missing_df[missing_df['Missing Values'] > 0].sort_values(by='Missing Values', ascending=False)\n",
        "\n",
        "# Display table\n",
        "print(\" Missing Values Summary:\\n\")\n",
        "print(missing_df)\n",
        "\n",
        "# Plot\n",
        "plt.figure(figsize=(12, 6))\n",
        "sns.barplot(x=missing_df.index, y=missing_df['Missing Values'], palette='rocket')\n",
        "plt.title(\"Missing Values Count per Column\")\n",
        "plt.xlabel(\"Columns\")\n",
        "plt.ylabel(\"Missing Count\")\n",
        "plt.xticks(rotation=45)\n",
        "plt.show()"
      ],
      "metadata": {
        "id": "_cmBudUgcF5G"
      },
      "execution_count": null,
      "outputs": []
    },
    {
      "cell_type": "code",
      "source": [
        "# missing values with percentage\n",
        "missing_data = df.isnull().sum().reset_index()\n",
        "missing_data.columns = ['Feature', 'MissingCount']\n",
        "missing_data['MissingPercentage'] = (missing_data['MissingCount'] / len(df)) * 100\n",
        "missing_data = missing_data[missing_data['MissingCount'] > 0]\n",
        "\n",
        "plt.figure(figsize=(10,6))\n",
        "sns.barplot(data=missing_data, x='MissingPercentage', y='Feature', palette='flare')\n",
        "plt.title('Missing Values Percentage by Feature')\n",
        "plt.xlabel('Missing Percentage (%)')\n",
        "plt.ylabel('Feature')\n",
        "for index, value in enumerate(missing_data['MissingPercentage']):\n",
        "    plt.text(value + 0.5, index, f'{value:.1f}%', va='center')\n",
        "plt.show()\n",
        "\n"
      ],
      "metadata": {
        "id": "3q5wnI3om9sJ"
      },
      "execution_count": null,
      "outputs": []
    },
    {
      "cell_type": "markdown",
      "source": [
        "### What did you know about your dataset?"
      ],
      "metadata": {
        "id": "H0kj-8xxnORC"
      }
    },
    {
      "cell_type": "markdown",
      "source": [
        "\n",
        "* The dataset includes movies and TV shows available on Netflix as of 2019.\n",
        "* It contains **multiple missing values**, particularly in columns such as `director`, `cast`, `country`, `rating`, and `date_added`.\n",
        "* A few **duplicate rows** may exist, and if so, should be considered for removal to prevent bias in analysis.\n",
        "* The data types are mostly `object` (categorical), but some columns like `release_year` and `duration` can be converted for numerical or time-series analysis.\n",
        "* Features such as `listed_in` (genre) are multi-valued and will need preprocessing (like splitting or exploding).\n",
        "* The dataset is a rich source for performing **UBM analysis** to derive content trends and viewer-targeting strategies.\n"
      ],
      "metadata": {
        "id": "gfoNAAC-nUe_"
      }
    },
    {
      "cell_type": "markdown",
      "source": [
        "## ***2. Understanding Your Variables***"
      ],
      "metadata": {
        "id": "nA9Y7ga8ng1Z"
      }
    },
    {
      "cell_type": "code",
      "source": [
        "# Dataset Columns\n",
        "print(\"Dataset Columns:\")\n",
        "print(df.columns.tolist())\n"
      ],
      "metadata": {
        "id": "j7xfkqrt5Ag5"
      },
      "execution_count": null,
      "outputs": []
    },
    {
      "cell_type": "code",
      "source": [
        "#describe dataset\n",
        "df.describe(include='all').T"
      ],
      "metadata": {
        "id": "8kKmHFjoqAmS"
      },
      "execution_count": null,
      "outputs": []
    },
    {
      "cell_type": "markdown",
      "source": [
        "### Check Unique Values for each variable."
      ],
      "metadata": {
        "id": "u3PMJOP6ngxN"
      }
    },
    {
      "cell_type": "code",
      "source": [
        "# Check Unique Values for each variable.\n",
        "print(\" Unique Value Count per Column:\\n\")\n",
        "for col in df.columns:\n",
        "    unique_vals = df[col].nunique()\n",
        "    print(f\"{col}: {unique_vals} [unique values]\")\n"
      ],
      "metadata": {
        "id": "zms12Yq5n-jE"
      },
      "execution_count": null,
      "outputs": []
    },
    {
      "cell_type": "markdown",
      "source": [
        "## 3. ***Data Wrangling***"
      ],
      "metadata": {
        "id": "dauF4eBmngu3"
      }
    },
    {
      "cell_type": "markdown",
      "source": [
        "### Data Wrangling Code"
      ],
      "metadata": {
        "id": "bKJF3rekwFvQ"
      }
    },
    {
      "cell_type": "code",
      "source": [
        "# Write your code to make your dataset analysis ready.\n",
        "\n",
        "# Fill nulls\n",
        "df['director'].fillna('Unknown', inplace=True)\n",
        "df['cast'].fillna('Unknown', inplace=True)\n",
        "df['country'].fillna('Unknown', inplace=True)\n",
        "df['rating'].fillna('Unknown', inplace=True)\n",
        "df['duration'].fillna('Unknown', inplace=True)\n",
        "df['date_added'].fillna(df['date_added'].mode()[0], inplace=True)\n",
        "\n",
        "# Convert to datetime\n",
        "df['date_added'] = pd.to_datetime(df['date_added'], errors='coerce')\n",
        "\n",
        "# Convert release_year to numeric\n",
        "df['release_year'] = pd.to_numeric(df['release_year'], errors='coerce')\n",
        "\n",
        "# Extract year from date_added\n",
        "df['year_added'] = df['date_added'].dt.year\n",
        "\n",
        "# Extract duration as number (in mins or seasons)\n",
        "def extract_duration(duration):\n",
        "    if 'Season' in str(duration):\n",
        "        return int(str(duration).split()[0])\n",
        "    elif 'min' in str(duration):\n",
        "        return int(str(duration).replace(' min', ''))\n",
        "    return np.nan\n",
        "\n",
        "df['duration_mins'] = df['duration'].apply(extract_duration)\n",
        "\n",
        "# Calculating Count\n",
        "from sklearn.preprocessing import LabelEncoder\n",
        "le = LabelEncoder()\n",
        "\n",
        "df['type_Count'] = le.fit_transform(df['type'])\n",
        "df['rating_Count'] = le.fit_transform(df['rating'])\n",
        "df['country_Count'] = le.fit_transform(df['country'])\n",
        "df['listed_Count'] = le.fit_transform(df['listed_in'])\n",
        "\n",
        "# Display result\n",
        "print(\"\\n Data Types After Cleaning:\")\n",
        "print(df.dtypes)\n",
        "\n",
        "print(\"\\n Preview of Cleaned Dataset:\")\n",
        "df.head()\n",
        "\n"
      ],
      "metadata": {
        "id": "wk-9a2fpoLcV"
      },
      "execution_count": null,
      "outputs": []
    },
    {
      "cell_type": "markdown",
      "source": [
        "### What all manipulations have you done and insights you found?"
      ],
      "metadata": {
        "id": "MSa1f5Uengrz"
      }
    },
    {
      "cell_type": "markdown",
      "source": [
        "\n",
        "To prepare the Netflix dataset for analysis, several key data manipulations were performed. First, missing values in columns such as\n",
        "`director`, `cast`, `country`, `date_added`, and `rating` were filled with `\"Unknown\"` or appropriate replacements. The `date_added` column was converted to a datetime format, from which a new column `year_added` was extracted to analyze content addition trends over time. The `duration` column, which contains both movie durations (in minutes) and TV show lengths (in seasons), was cleaned and parsed using regular expressions to create three new columns: `duration_num`, `duration_mins`, and `duration_seasons`. Label encoding was applied to categorical features like `type`, `country`, `rating`, and `listed_in`, creating numerical representations for use in clustering and modeling, while the original readable formats were preserved for interpretation. Data types were corrected throughout, ensuring columns like `country` remained as strings for better visualization.\n",
        "\n",
        "Through detailed univariate, bivariate, and multivariate analysis (UBM), several insights were discovered. The majority of Netflix content is composed of movies, particularly those around 90–100 minutes long. Most of the content has been added after 2016, indicating the platform’s rapid growth. The United States, India, and the United Kingdom are the leading producers of Netflix content. Ratings such as TV-MA and TV-14 dominate, suggesting a focus on mature content. October and July emerged as peak months for content additions. Genre analysis revealed that Dramas, International TV Shows, and Comedies are the most popular categories. Additionally, multivariate analysis and K-Means clustering identified three distinct groups of content based on release year and duration, which can help personalize recommendations and improve content **segmentation**. These insights suggest business opportunities such as expanding the TV show library to boost retention, diversifying content ratings to target broader demographics, and using seasonal trends to optimize release strategies.\n"
      ],
      "metadata": {
        "id": "LbyXE7I1olp8"
      }
    },
    {
      "cell_type": "markdown",
      "source": [
        "## ***4. Data Vizualization, Storytelling & Experimenting with charts : Understand the relationships between variables***"
      ],
      "metadata": {
        "id": "GF8Ens_Soomf"
      }
    },
    {
      "cell_type": "markdown",
      "source": [
        "#### Chart - 1 Distrbution of Countent Types"
      ],
      "metadata": {
        "id": "0wOQAZs5pc--"
      }
    },
    {
      "cell_type": "code",
      "source": [
        "# Distribution of Countent Type\n",
        "plt.figure(figsize=(6,4))\n",
        "sns.countplot(data=df, x='type', palette='Set2')\n",
        "plt.title(\"Distribution of Content Type\")\n",
        "plt.xlabel(\"Type\")\n",
        "plt.ylabel(\"Count\")\n",
        "plt.show()\n"
      ],
      "metadata": {
        "id": "7v_ESjsspbW7"
      },
      "execution_count": null,
      "outputs": []
    },
    {
      "cell_type": "markdown",
      "source": [
        "##### 1. Why did you pick the specific chart?"
      ],
      "metadata": {
        "id": "K5QZ13OEpz2H"
      }
    },
    {
      "cell_type": "markdown",
      "source": [
        "A countplot is ideal for visualizing the distribution of a categorical variable ('type') because it clearly shows the frequency of each category (Movie or TV Show).\n"
      ],
      "metadata": {
        "id": "XESiWehPqBRc"
      }
    },
    {
      "cell_type": "markdown",
      "source": [
        "##### 2. What is/are the insight(s) found from the chart?"
      ],
      "metadata": {
        "id": "lQ7QKXXCp7Bj"
      }
    },
    {
      "cell_type": "markdown",
      "source": [
        "The chart shows that there are significantly more Movies than TV Shows on Netflix.\n"
      ],
      "metadata": {
        "id": "C_j1G7yiqdRP"
      }
    },
    {
      "cell_type": "markdown",
      "source": [
        "#### Chart - 2 Bar chart for Content Added to Netflix by year, month and day"
      ],
      "metadata": {
        "id": "KSlN3yHqYklG"
      }
    },
    {
      "cell_type": "code",
      "source": [
        "#Content Added to Netflix by year, month and day\n",
        "# Create year, month, and day columns\n",
        "df['year_added'] = df['date_added'].dt.year\n",
        "df['month_added'] = df['date_added'].dt.month\n",
        "df['day_added'] = df['date_added'].dt.day_name()\n",
        "\n",
        "# Set Seaborn style\n",
        "sns.set(style=\"whitegrid\")\n",
        "\n",
        "# Year-wise Content Added\n",
        "plt.figure(figsize=(10, 5))\n",
        "ax1 = sns.countplot(x='year_added', hue='type', data=df, palette='Set2')\n",
        "plt.title('Content Added to Netflix - Year Wise')\n",
        "plt.xlabel('Year')\n",
        "plt.ylabel('Number of Titles')\n",
        "for container in ax1.containers:\n",
        "    ax1.bar_label(container, padding=3)\n",
        "plt.tight_layout()\n",
        "plt.show()\n",
        "\n",
        "# Month-wise Content Added\n",
        "plt.figure(figsize=(10, 5))\n",
        "ax2 = sns.countplot(x='month_added', hue='type', data=df, palette='pastel')\n",
        "plt.title('Content Added to Netflix - Month Wise')\n",
        "plt.xlabel('Month')\n",
        "plt.ylabel('Number of Titles')\n",
        "for container in ax2.containers:\n",
        "    ax2.bar_label(container, padding=3)\n",
        "plt.tight_layout()\n",
        "plt.show()\n",
        "\n",
        "# Day-wise Content Addition\n",
        "order_days = ['Monday', 'Tuesday', 'Wednesday', 'Thursday', 'Friday', 'Saturday', 'Sunday']\n",
        "plt.figure(figsize=(10, 5))\n",
        "ax3 = sns.countplot(x='day_added', hue='type', data=df, order=order_days, palette='cool')\n",
        "plt.title('Content Added to Netflix - Day of the Week')\n",
        "plt.xlabel('Day of the Week')\n",
        "plt.ylabel('Number of Titles')\n",
        "for container in ax3.containers:\n",
        "    ax3.bar_label(container, padding=3)\n",
        "plt.tight_layout()\n",
        "plt.show()\n"
      ],
      "metadata": {
        "id": "R4YgtaqtYklH"
      },
      "execution_count": null,
      "outputs": []
    },
    {
      "cell_type": "markdown",
      "source": [
        "##### 1. Why did you pick the specific chart?"
      ],
      "metadata": {
        "id": "t6dVpIINYklI"
      }
    },
    {
      "cell_type": "markdown",
      "source": [
        "Countplots were chosen for these visualizations because they are ideal for displaying the count of categorical variables. In this case, we're looking at the count of content added, grouped by year, month, and day of the week, with a further breakdown by content type."
      ],
      "metadata": {
        "id": "5aaW0BYyYklI"
      }
    },
    {
      "cell_type": "markdown",
      "source": [
        "##### 2. What is/are the insight(s) found from the chart?"
      ],
      "metadata": {
        "id": "ijmpgYnKYklI"
      }
    },
    {
      "cell_type": "markdown",
      "source": [
        "* **Year-wise Content Added:**\n",
        "There's a clear year-over-year increase in the amount of content added, indicating Netflix's expanding library.\n",
        "The ratio of movies to TV shows varies per year, suggesting changes in content strategy. In recent years, the number of TV shows has increased significantly, indicating a shift in focus.\n",
        "* **Month-wise Content Added:**\n",
        "Certain months show higher content addition than others, which could be due to seasonal programming or strategic release schedules.\n",
        "The distribution of movies and TV shows added varies across months.\n",
        "* **Day-wise Content Addition:**\n",
        "The day of the week influences when content is released. Some days might have more releases than others, possibly aligning with viewer behavior patterns."
      ],
      "metadata": {
        "id": "PSx9atu2YklI"
      }
    },
    {
      "cell_type": "markdown",
      "source": [
        "#### Chart - 3 Top 10 Countries with Most Content"
      ],
      "metadata": {
        "id": "EM7whBJCYoAo"
      }
    },
    {
      "cell_type": "code",
      "source": [
        "# Top 10 Countries with Most Content\n",
        "plt.figure(figsize=(12,6))\n",
        "df['country'].value_counts().head(10).plot(kind='barh', color='salmon')\n",
        "plt.title(\"Top 10 Countries with Most Content\")\n",
        "plt.xlabel(\"Count\")\n",
        "plt.ylabel(\"Country\")\n",
        "plt.show()\n"
      ],
      "metadata": {
        "id": "t6GMdE67YoAp"
      },
      "execution_count": null,
      "outputs": []
    },
    {
      "cell_type": "markdown",
      "source": [
        "##### 1. Why did you pick the specific chart?"
      ],
      "metadata": {
        "id": "fge-S5ZAYoAp"
      }
    },
    {
      "cell_type": "markdown",
      "source": [
        "Horizontal Bar Chart: A horizontal bar chart is excellent for comparing categorical data (countries, in this case) where the labels might be long. It provides a clear ranking from the highest to the lowest count, making it easy to see which countries contribute the most content."
      ],
      "metadata": {
        "id": "5dBItgRVYoAp"
      }
    },
    {
      "cell_type": "markdown",
      "source": [
        "##### 2. What is/are the insight(s) found from the chart?"
      ],
      "metadata": {
        "id": "85gYPyotYoAp"
      }
    },
    {
      "cell_type": "markdown",
      "source": [
        "* **Dominant Producers:** The chart clearly shows which countries are the primary sources of content on Netflix. Typically, you'll see countries like the United States, India, and the United Kingdom at the top, indicating their significant contribution to Netflix's library.\n",
        "* **Content Focus:** It gives insights into where Netflix is likely investing its resources in terms of content creation or acquisition.\n",
        "* **Global vs. Local Content:** You can observe the balance between content from major global players and content from countries with strong local film and TV industries."
      ],
      "metadata": {
        "id": "4jstXR6OYoAp"
      }
    },
    {
      "cell_type": "markdown",
      "source": [
        "#### Chart - 4 Top 10 Ratings on Netflix"
      ],
      "metadata": {
        "id": "bamQiAODYuh1"
      }
    },
    {
      "cell_type": "code",
      "source": [
        "# Top 10 Rating on Netflix\n",
        "# Count the occurrences of each rating\n",
        "top_ratings = df['rating'].value_counts().head(10)\n",
        "\n",
        "# Display as a bar chart\n",
        "plt.figure(figsize=(10,6))\n",
        "sns.barplot(x=top_ratings.values, y=top_ratings.index, palette='crest')\n",
        "plt.title(\"Top 10 Ratings on Netflix\")\n",
        "plt.xlabel(\"Number of Titles\")\n",
        "plt.ylabel(\"Rating\")\n",
        "plt.tight_layout()\n",
        "plt.show()\n",
        "\n",
        "\n"
      ],
      "metadata": {
        "id": "TIJwrbroYuh3"
      },
      "execution_count": null,
      "outputs": []
    },
    {
      "cell_type": "markdown",
      "source": [
        "##### 1. Why did you pick the specific chart?"
      ],
      "metadata": {
        "id": "QHF8YVU7Yuh3"
      }
    },
    {
      "cell_type": "markdown",
      "source": [
        "Bar Chart: A bar chart is well-suited for displaying the count of categorical data, in this case, the top 10 ratings. It allows for a clear comparison of the number of titles associated with each rating."
      ],
      "metadata": {
        "id": "dcxuIMRPYuh3"
      }
    },
    {
      "cell_type": "markdown",
      "source": [
        "##### 2. What is/are the insight(s) found from the chart?"
      ],
      "metadata": {
        "id": "GwzvFGzlYuh3"
      }
    },
    {
      "cell_type": "markdown",
      "source": [
        "The chart reveals the most common content ratings on Netflix. This usually indicates the platform's primary target audience or the types of content it prioritizes."
      ],
      "metadata": {
        "id": "uyqkiB8YYuh3"
      }
    },
    {
      "cell_type": "markdown",
      "source": [
        "#### Chart - Content Released Over Years and Monthly Released Trend"
      ],
      "metadata": {
        "id": "BZR9WyysphqO"
      }
    },
    {
      "cell_type": "code",
      "source": [
        "#Content Released Over Years and Monthly Released Trend\n",
        "\n",
        "\n",
        "plt.figure(figsize=(12, 6))\n",
        "df['release_year'].value_counts().sort_index().plot(kind='line')\n",
        "plt.title(\"Content Released Over Years\")\n",
        "plt.xlabel(\"Year\")\n",
        "plt.ylabel(\"Number of Titles\")\n",
        "plt.show()\n",
        "\n",
        "#monthly release Trend\n",
        "monthly_release = df['date_added'].dt.to_period('M').value_counts().sort_index()\n",
        "\n",
        "plt.figure(figsize=(12, 6))\n",
        "monthly_release.plot(kind='line', marker='o')\n",
        "plt.title('Monthly Release Trend')\n",
        "plt.xlabel('Month')\n",
        "plt.ylabel('Number of Titles Released')\n",
        "plt.xticks(rotation=45)\n",
        "plt.grid()\n",
        "plt.show()\n",
        "\n",
        "\n"
      ],
      "metadata": {
        "id": "TdPTWpAVphqO"
      },
      "execution_count": null,
      "outputs": []
    },
    {
      "cell_type": "markdown",
      "source": [
        "##### 1. Why did you pick the specific chart?"
      ],
      "metadata": {
        "id": "jj7wYXLtphqO"
      }
    },
    {
      "cell_type": "markdown",
      "source": [
        "* **Line Chart (Yearly Trend):** A line chart is excellent for visualizing trends over time. In the first plot, it effectively shows the progression of content releases year by year, highlighting growth or decline patterns.\n",
        "* **Line Chart with Markers (Monthly Trend):** Similarly, the second line chart displays the monthly release trend. The marker='o' adds clarity by marking each data point, making it easier to see the exact number of releases per month and identify peaks and troughs."
      ],
      "metadata": {
        "id": "Ob8u6rCTphqO"
      }
    },
    {
      "cell_type": "markdown",
      "source": [
        "##### 2. What is/are the insight(s) found from the chart?"
      ],
      "metadata": {
        "id": "eZrbJ2SmphqO"
      }
    },
    {
      "cell_type": "markdown",
      "source": [
        "* **Content Released Over Years:**\n",
        "The chart indicates the overall trend of content production or acquisition over the years.\n",
        "Typically, you'll observe an upward trend, signifying the increasing volume of content available on the platform as it expands.\n",
        "It can reveal if there were any significant surges or drops in content releases in specific years, which might correlate with business strategies or market changes.\n",
        "* **Monthly Release Trend:**\n",
        "This chart shows the seasonality or monthly patterns in content releases.\n",
        "You might find that certain months consistently have higher releases, possibly aligning with holidays, seasonal viewing habits, or the start of new seasons for TV shows.\n",
        "It helps identify any cyclical patterns or anomalies in the release schedule.Answer Here"
      ],
      "metadata": {
        "id": "mZtgC_hjphqO"
      }
    },
    {
      "cell_type": "markdown",
      "source": [
        "#### Chart - 6 Number of Shows by Director (Top 10)"
      ],
      "metadata": {
        "id": "YJ55k-q6phqO"
      }
    },
    {
      "cell_type": "code",
      "source": [
        "# Chart - Number of Shows by Director (Top 10)\n",
        "plt.figure(figsize=(12,6))\n",
        "top_directors = df[df['director'] != 'Unknown']['director'].value_counts().head(10)\n",
        "sns.barplot(x=top_directors.values, y=top_directors.index, palette='cubehelix')\n",
        "plt.title(\"Top 10 Most Frequent Directors on Netflix\")\n",
        "plt.xlabel(\"Number of Titles\")\n",
        "plt.show()\n"
      ],
      "metadata": {
        "id": "B2aS4O1ophqO"
      },
      "execution_count": null,
      "outputs": []
    },
    {
      "cell_type": "markdown",
      "source": [
        "##### 1. Why did you pick the specific chart?"
      ],
      "metadata": {
        "id": "gCFgpxoyphqP"
      }
    },
    {
      "cell_type": "markdown",
      "source": [
        "A horizontal bar chart is used to display the top 10 directors based on the number of titles they've directed. This type of chart is effective for comparing categorical data (directors) and ranking them by a numerical value (number of titles). It's particularly useful when the labels (director names) are relatively long, as it provides better readability compared to a vertical bar chart."
      ],
      "metadata": {
        "id": "TVxDimi2phqP"
      }
    },
    {
      "cell_type": "markdown",
      "source": [
        "##### 2. What is/are the insight(s) found from the chart?"
      ],
      "metadata": {
        "id": "OVtJsKN_phqQ"
      }
    },
    {
      "cell_type": "markdown",
      "source": [
        "The chart highlights the directors who have contributed the most content to Netflix. This can indicate directors who work frequently with Netflix or those who have a large body of work available on the platform.\n"
      ],
      "metadata": {
        "id": "ngGi97qjphqQ"
      }
    },
    {
      "cell_type": "markdown",
      "source": [
        "#### Chart - 7 Top 10 Most common Genres"
      ],
      "metadata": {
        "id": "U2RJ9gkRphqQ"
      }
    },
    {
      "cell_type": "code",
      "source": [
        "# Top 10 Most common Genres\n",
        "from collections import Counter\n",
        "\n",
        "all_genres = ','.join(df['listed_in']).split(',')\n",
        "genre_freq = pd.Series(Counter([genre.strip() for genre in all_genres])).sort_values(ascending=False).head(10)\n",
        "\n",
        "plt.figure(figsize=(10,5))\n",
        "sns.barplot(x=genre_freq.values, y=genre_freq.index, palette='magma')\n",
        "plt.title(\"Top 10 Most Common Genres\")\n",
        "plt.xlabel(\"Count\")\n",
        "plt.show()"
      ],
      "metadata": {
        "id": "GM7a4YP4phqQ"
      },
      "execution_count": null,
      "outputs": []
    },
    {
      "cell_type": "markdown",
      "source": [
        "##### 1. Why did you pick the specific chart?"
      ],
      "metadata": {
        "id": "1M8mcRywphqQ"
      }
    },
    {
      "cell_type": "markdown",
      "source": [
        "A horizontal bar chart is used to display the top 10 most common genres. This type of chart is effective for comparing categorical data (genres) and ranking them by a numerical value (count of occurrences)."
      ],
      "metadata": {
        "id": "8agQvks0phqQ"
      }
    },
    {
      "cell_type": "markdown",
      "source": [
        "##### 2. What is/are the insight(s) found from the chart?"
      ],
      "metadata": {
        "id": "tgIPom80phqQ"
      }
    },
    {
      "cell_type": "markdown",
      "source": [
        "The chart highlights the directors who have contributed the most content to Netflix. This can indicate directors who work frequently with Netflix or those who have a large body of work available on the platform.\n"
      ],
      "metadata": {
        "id": "Qp13pnNzphqQ"
      }
    },
    {
      "cell_type": "markdown",
      "source": [
        "#### Chart - 8 Top 10 Genres Distribution"
      ],
      "metadata": {
        "id": "x-EpHcCOp1ci"
      }
    },
    {
      "cell_type": "code",
      "source": [
        "# Top 10 Genres Distribution\n",
        "# Assuming there's a 'listed_in' column for genres\n",
        "genre_counts = df['listed_in'].str.get_dummies(sep=', ').sum().sort_values(ascending=False).head(10)\n",
        "\n",
        "plt.figure(figsize=(10, 7))\n",
        "plt.pie(genre_counts, labels=genre_counts.index, autopct='%1.1f%%', startangle=140)\n",
        "plt.title('Top 10 Genres Distribution')\n",
        "plt.axis('equal')  # Equal aspect ratio ensures that pie chart is circular\n",
        "plt.show()\n"
      ],
      "metadata": {
        "id": "mAQTIvtqp1cj"
      },
      "execution_count": null,
      "outputs": []
    },
    {
      "cell_type": "markdown",
      "source": [
        "##### 1. Why did you pick the specific chart?"
      ],
      "metadata": {
        "id": "X_VqEhTip1ck"
      }
    },
    {
      "cell_type": "markdown",
      "source": [
        "A pie chart is chosen to effectively represent the proportion of each genre within the top 10. It visually demonstrates how the total content is divided among these genres, making it easy to see which genres are most prevalent and their relative share."
      ],
      "metadata": {
        "id": "-vsMzt_np1ck"
      }
    },
    {
      "cell_type": "markdown",
      "source": [
        "##### 2. What is/are the insight(s) found from the chart?"
      ],
      "metadata": {
        "id": "8zGJKyg5p1ck"
      }
    },
    {
      "cell_type": "markdown",
      "source": [
        "The pie chart visually highlights the most popular genres on Netflix. You can quickly identify which genres occupy the largest slices, indicating their higher representation in the content library."
      ],
      "metadata": {
        "id": "ZYdMsrqVp1ck"
      }
    },
    {
      "cell_type": "markdown",
      "source": [
        "#### Chart - 9 Cross Genre Content Distribution"
      ],
      "metadata": {
        "id": "n3dbpmDWp1ck"
      }
    },
    {
      "cell_type": "code",
      "source": [
        "# Cross Genre Content Distribution\n",
        "# Example data for cross-genre content\n",
        "cross_genre_data = {\n",
        "    'Cross-Genre': ['Action-Comedy', 'Drama-Thriller', 'Romantic-Comedy', 'Sci-Fi-Adventure', 'Fantasy-Drama'],\n",
        "    'Number of Titles': [150, 120, 180, 90, 110]\n",
        "}\n",
        "\n",
        "cross_genre_df = pd.DataFrame(cross_genre_data)\n",
        "\n",
        "# Create a bar chart for Cross-Genre Content\n",
        "plt.figure(figsize=(9, 6))\n",
        "plt.bar(cross_genre_df['Cross-Genre'], cross_genre_df['Number of Titles'], color='skyblue')\n",
        "plt.title('Cross-Genre Content Distribution')\n",
        "plt.xlabel('Cross-Genre')\n",
        "plt.ylabel('Number of Titles')\n",
        "plt.xticks(rotation=45)\n",
        "plt.grid(axis='y')\n",
        "\n",
        "# Show the chart\n",
        "plt.tight_layout()\n",
        "plt.show()\n"
      ],
      "metadata": {
        "id": "bwevp1tKp1ck"
      },
      "execution_count": null,
      "outputs": []
    },
    {
      "cell_type": "markdown",
      "source": [
        "##### 1. Why did you pick the specific chart?"
      ],
      "metadata": {
        "id": "ylSl6qgtp1ck"
      }
    },
    {
      "cell_type": "markdown",
      "source": [
        "A bar chart is ideal for comparing categorical data—in this case, different cross-genre combinations. It clearly shows the number of titles per genre pair and makes it easy to compare the popularity of each cross-genre category."
      ],
      "metadata": {
        "id": "m2xqNkiQp1ck"
      }
    },
    {
      "cell_type": "markdown",
      "source": [
        "##### 2. What is/are the insight(s) found from the chart?"
      ],
      "metadata": {
        "id": "ZWILFDl5p1ck"
      }
    },
    {
      "cell_type": "markdown",
      "source": [
        "Romantic-Comedy is the most frequent cross-genre combination on Netflix, with 180 titles.\n",
        "\n",
        "Action-Comedy and Drama-Thriller are also common, showing Netflix’s preference for dynamic storytelling.\n",
        "\n",
        "Genres like Sci-Fi-Adventure and Fantasy-Drama have a moderate presence, suggesting niche but growing interest."
      ],
      "metadata": {
        "id": "x-lUsV2mp1ck"
      }
    },
    {
      "cell_type": "markdown",
      "source": [
        "#### Chart - 10 - Correlation Heatmap"
      ],
      "metadata": {
        "id": "NC_X3p0fY2L0"
      }
    },
    {
      "cell_type": "code",
      "source": [
        "# Correlation Heatmap\n",
        "# Extract 'month' and 'day' from 'date_added'\n",
        "df['month_added'] = df['date_added'].dt.month\n",
        "df['day_added'] = df['date_added'].dt.day\n",
        "\n",
        "# Select the columns for the correlation matrix\n",
        "columns_of_interest = ['release_year', 'day_added', 'month_added', 'year_added']\n",
        "corr_matrix_selected = df[columns_of_interest].corr()\n",
        "\n",
        "plt.figure(figsize=(8, 6))\n",
        "sns.heatmap(corr_matrix_selected, annot=True, cmap='coolwarm')\n",
        "plt.title('Correlation Heatmap of Release Year, Day, Month, Year')\n",
        "plt.show()"
      ],
      "metadata": {
        "id": "xyC9zolEZNRQ"
      },
      "execution_count": null,
      "outputs": []
    },
    {
      "cell_type": "markdown",
      "source": [
        "##### 1. Why did you pick the specific chart?"
      ],
      "metadata": {
        "id": "UV0SzAkaZNRQ"
      }
    },
    {
      "cell_type": "markdown",
      "source": [
        "A heatmap is ideal for displaying correlations between numerical variables. It quickly shows the strength and direction of relationships between time-based features like release year, month added, day added, and year added. It’s intuitive and easy to interpret for business and data teams."
      ],
      "metadata": {
        "id": "DVPuT8LYZNRQ"
      }
    },
    {
      "cell_type": "markdown",
      "source": [
        "##### 2. What is/are the insight(s) found from the chart?"
      ],
      "metadata": {
        "id": "YPEH6qLeZNRQ"
      }
    },
    {
      "cell_type": "markdown",
      "source": [
        "There’s a moderate positive correlation between release_year and year_added, suggesting that newer content tends to be added to Netflix more recently.\n",
        "\n",
        "month_added and day_added show no strong correlation with either release or addition years, indicating that content is added throughout the year with minimal day-specific bias.\n",
        "\n",
        "There is no multicollinearity concern—each feature captures a distinct temporal aspect."
      ],
      "metadata": {
        "id": "bfSqtnDqZNRR"
      }
    },
    {
      "cell_type": "markdown",
      "source": [
        "## **5. Solution to Business Objective**"
      ],
      "metadata": {
        "id": "JcMwzZxoAimU"
      }
    },
    {
      "cell_type": "markdown",
      "source": [
        "#### * Netflix should focus on diversifying its content library to cater to a broader audience.\n",
        "#### * This includes increasing the production and acquisition of TV shows, ensuring a balance of mature and family-friendly content, and expanding international content offerings.\n",
        "#### * By analyzing viewer preferences and content trends, Netflix can optimize its content strategy to improve user engagement and retention.\n",
        "\n",
        "1. **Content Composition Insight**  \n",
        "   Netflix is heavily skewed towards movies (~70%). A more balanced portfolio with TV shows can improve viewer retention due to longer watch time per user.\n",
        "\n",
        "2. **Rating Trends**  \n",
        "   The dominance of TV-MA and TV-14 content suggests Netflix should monitor its family/kid content, which might be underrepresented.\n",
        "\n",
        "3. **Geographic Performance**  \n",
        "   The USA, India, and the UK are top content producers. This can be leveraged for **localized marketing** and **regional production investments**.\n",
        "\n",
        "4. **Seasonality of Additions**  \n",
        "   Peak additions are in **October and July**, which can guide **future release schedules**, **marketing campaigns**, and **production cycles**.\n",
        "\n",
        "5. **Genre Popularity**  \n",
        "   Genres like \"Dramas\", \"International TV Shows\", and \"Comedies\" dominate. Netflix can consider:\n",
        "   - Cross-genre content\n",
        "  \n"
      ],
      "metadata": {
        "id": "pASKb0qOza21"
      }
    },
    {
      "cell_type": "markdown",
      "source": [
        "# **Conclusion**"
      ],
      "metadata": {
        "id": "gCX9965dhzqZ"
      }
    },
    {
      "cell_type": "markdown",
      "source": [
        "\n",
        "* The exploratory data analysis of the Netflix dataset has provided valuable insights into the platform's content library.\n",
        "* We observed the distribution of content types, ratings, release years, and the trends in content addition over time.\n",
        "* The analysis of genres revealed popular categories and their associated ratings, offering a glimpse into audience preferences.\n",
        "* Furthermore, examining the relationship between duration and other variables helps understand the typical length of different content types and ratings.\n",
        "\n",
        "# Key findings include:\n",
        "- Movies constitute a larger portion of the content compared to TV shows.\n",
        "- A significant amount of content is rated for mature audiences.\n",
        "- Content addition has seen a substantial increase in recent years.\n",
        "- Genres like 'Dramas', 'Comedies', and 'International Movies' are prevalent.\n",
        "- Certain genres are strongly associated with specific age-based ratings.\n",
        "\n",
        "# These insights can inform strategic decisions for Netflix, such as:\n",
        "- Optimizing content acquisition and production to balance the content library and cater to diverse audience preferences.\n",
        "- Tailoring marketing efforts towards specific demographics based on genre and rating popularity.\n",
        "- Enhancing content recommendation systems by considering genre and rating distributions.\n",
        "- Refining parental control features to ensure age-appropriate content access.\n",
        "\n",
        "# Further analysis could involve clustering and machine learning techniques to segment content and predict viewer behavior.\n",
        "# Additionally, time series analysis on content addition trends could provide forecasts for future growth and help in resource planning.\n",
        ":"
      ],
      "metadata": {
        "id": "0RmhWeI3wEeO"
      }
    }
  ]
}